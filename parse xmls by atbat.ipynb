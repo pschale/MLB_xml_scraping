{
 "cells": [
  {
   "cell_type": "code",
   "execution_count": 1,
   "metadata": {
    "collapsed": true
   },
   "outputs": [],
   "source": [
    "import pandas as pd\n",
    "import xml.etree.ElementTree as ET\n",
    "from bs4 import BeautifulSoup, SoupStrainer\n",
    "from datetime import timedelta, date\n",
    "import os\n",
    "from tqdm import tqdm\n",
    "import time\n",
    "from numpy import nan"
   ]
  },
  {
   "cell_type": "code",
   "execution_count": 2,
   "metadata": {
    "collapsed": true
   },
   "outputs": [],
   "source": [
    "def try_ap(l, dic, field, type=None):\n",
    "    try:\n",
    "        if type:\n",
    "            l.append(type(dic[field]))\n",
    "        else:\n",
    "            l.append(dic[field])\n",
    "    except:\n",
    "        l.append(nan)\n",
    "        #print('added nan to {}'.format(field))"
   ]
  },
  {
   "cell_type": "code",
   "execution_count": 7,
   "metadata": {
    "scrolled": true
   },
   "outputs": [
    {
     "name": "stderr",
     "output_type": "stream",
     "text": [
      "  0%|          | 2/2456 [00:00<02:21, 17.32it/s]"
     ]
    },
    {
     "name": "stdout",
     "output_type": "stream",
     "text": [
      "2015\n"
     ]
    },
    {
     "name": "stderr",
     "output_type": "stream",
     "text": [
      "100%|██████████| 2456/2456 [02:32<00:00, 16.07it/s]\n",
      "  0%|          | 2/2445 [00:00<02:38, 15.37it/s]"
     ]
    },
    {
     "name": "stdout",
     "output_type": "stream",
     "text": [
      "2016\n"
     ]
    },
    {
     "name": "stderr",
     "output_type": "stream",
     "text": [
      "100%|██████████| 2445/2445 [03:01<00:00, 13.44it/s]\n",
      "  0%|          | 2/2445 [00:00<03:08, 12.97it/s]"
     ]
    },
    {
     "name": "stdout",
     "output_type": "stream",
     "text": [
      "2017\n"
     ]
    },
    {
     "name": "stderr",
     "output_type": "stream",
     "text": [
      "100%|██████████| 2445/2445 [03:38<00:00, 11.19it/s]\n",
      "  0%|          | 2/2455 [00:00<02:43, 15.05it/s]"
     ]
    },
    {
     "name": "stdout",
     "output_type": "stream",
     "text": [
      "2018\n"
     ]
    },
    {
     "name": "stderr",
     "output_type": "stream",
     "text": [
      "100%|██████████| 2455/2455 [04:22<00:00,  9.35it/s]\n"
     ]
    }
   ],
   "source": [
    "years = [2015, 2016, 2017, 2018]\n",
    "\n",
    "keys_to_grab_floats = ['px', 'pz', 'start_speed', 'end_speed', 'spin_rate', 'spin_dir', 'break_angle',\n",
    "                        'break_length', 'break_y', 'ax', 'ay', 'az', 'sz_bot', 'sz_top', 'type_confidence',\n",
    "                        'vx0', 'vy0', 'vz0', 'x', 'x0', 'y', 'y0', 'z0', 'pfx_x', 'pfx_z', 'nasty', 'zone']\n",
    "\n",
    "keys_to_grab_str = ['code', 'type', 'pitch_type']\n",
    "\n",
    "\n",
    "other_cols = ['b_score', 'ab_id', 'b_count', 's_count', 'outs', 'pitch_num', 'on_1b', 'on_2b', 'on_3b']\n",
    "\n",
    "ab_keys = ['inning', 'top', 'ab_id', 'g_id', 'p_score', 'batter_id', 'pitcher_id', 'stand', 'p_throws']\n",
    "\n",
    "game_keys = ['g_id', 'home_team', 'away_team', 'home_final_score', 'away_final_score']\n",
    "\n",
    "\n",
    "pitch_data_dict = {}\n",
    "ab_data_dict = {}\n",
    "game_data_dict = {}\n",
    "for ele in keys_to_grab_floats + keys_to_grab_str + other_cols:\n",
    "    pitch_data_dict[ele] = []\n",
    "\n",
    "for ele in ab_keys:\n",
    "    ab_data_dict[ele] = []\n",
    "    \n",
    "for ele in game_keys:\n",
    "    game_data_dict[ele] = []\n",
    "    \n",
    "ppd_inds = []\n",
    "shortened_inds = []\n",
    "\n",
    "for year in years:\n",
    "    print(year)\n",
    "    xml_dir = str(year) + '_xmls'\n",
    "    game_files = os.listdir(xml_dir)\n",
    "    game_files = [ele for ele in sorted(game_files) if ele[:3]=='gid'] # the sorted is important \n",
    "                                                                       # to get chronological order\n",
    "    g_id = year*1e5 + 1\n",
    "    ab_id = year*1e6 + 1\n",
    "\n",
    "    for g in tqdm(game_files):\n",
    "        game_xml = BeautifulSoup(open(os.path.join(xml_dir, g)).read(), 'xml')\n",
    "        game_ind = game_xml('game')[0]['ind']\n",
    "        \n",
    "        if len(game_xml('pitch')) == 0: #game postponed\n",
    "            ppd_inds.append(game_ind)\n",
    "            continue\n",
    "\n",
    "        #inning = 1\n",
    "        top = False\n",
    "        num_outs = 0\n",
    "        #new_inning = True\n",
    "        \n",
    "        game_data_dict['g_id'].append(g_id)\n",
    "        game_data_dict['home_team'].append(game_xml.findAll('inning')[0]['home_team'])\n",
    "        game_data_dict['away_team'].append(game_xml.findAll('inning')[0]['away_team'])\n",
    "        \n",
    "        home_team_runs = 0\n",
    "        away_team_runs = 0\n",
    "        \n",
    "        all_innings = game_xml.findAll('inning')\n",
    "        num_innings = len(all_innings)\n",
    "        \n",
    "        for inning_xml in all_innings: \n",
    "            inning_num = int(inning_xml['num'])\n",
    "            \n",
    "            inning_top  = inning_xml.findAll('top')\n",
    "            inning_bot  = inning_xml.findAll('bottom')\n",
    "\n",
    "            assert top == False\n",
    "            for half_xml in inning_xml.findAll(['top', 'bottom']):\n",
    "                top = not top\n",
    "                num_outs = 0\n",
    "                \n",
    "                for ab in half_xml.findAll('atbat'):\n",
    "                    pitches = ab.findAll(['pitch', 'runner'])\n",
    "                    count_balls = 0\n",
    "                    count_strikes = 0\n",
    "                    pitch_num_counter = 0\n",
    "\n",
    "                    ab_data_dict['top'].append(top)\n",
    "                    ab_data_dict['ab_id'].append(ab_id)\n",
    "                    ab_data_dict['g_id'].append(g_id)\n",
    "                    ab_data_dict['inning'].append(inning_num)\n",
    "                    ab_data_dict['p_score'].append(home_team_runs if top else away_team_runs)\n",
    "                    ab_data_dict['batter_id'].append(ab['batter'])\n",
    "                    ab_data_dict['pitcher_id'].append(ab['pitcher'])\n",
    "                    ab_data_dict['stand'].append(ab['stand'])\n",
    "                    ab_data_dict['p_throws'].append(ab['p_throws'])\n",
    "                    for n, p in enumerate(pitches):\n",
    "\n",
    "                        #print(p.prettify())\n",
    "\n",
    "                        # outs and scores are only given at the ab level in the xml file\n",
    "                        # this represents the outs and score at the *end* of the ab\n",
    "                        # to get pitch-level, we keep track of what it was at the end of the last AB,\n",
    "                        # and increment as needed by events like caught stealing, scoring on wild pitches, etc.\n",
    "                        # To start an inning, the outs start at 0 (obviously), and we can trust whatever it says\n",
    "                        # on score because that can't change during the 1st AB (HR would mean the score happens after)\n",
    "                        # note that the continue implements this nicely: if it's the last event of an AB, \n",
    "                        # it will skip down to the end-of-AB section where we check the number of outs and runs\n",
    "                        # directly from the xml, and start a new inning if necessary. This means we effectively ignore\n",
    "                        # everything that happens in the field after the last pitch of the AB, and look to the XML\n",
    "                        # to tell us exactly what the situation is afterward.\n",
    "                        if p.name == 'runner':\n",
    "                            if p['end'] == \"\": #runner doesn't end on base\n",
    "                                if p.has_attr('score'): # runner scored\n",
    "                                    if top:\n",
    "                                        away_team_runs += 1\n",
    "                                    else:\n",
    "                                        home_team_runs += 1\n",
    "                                    #b_score += 1\n",
    "                                else: #runner is out\n",
    "                                    num_outs += 1\n",
    "                            if p['start'] == \"\" and not p['id'] == ab['batter']: #pinch runner substitution\n",
    "                                num_outs -= 1 # subtract an out bc we added an out when old runner came off\n",
    "                            continue\n",
    "                        if num_outs <0:\n",
    "                            raise\n",
    "                        \n",
    "                        assert num_outs >= 0\n",
    "                        if num_outs > 2: # this should also be an assert, but at least one XML has \n",
    "                                         # a weird error - after Adam Eaton was thrown out of the game\n",
    "                            break        # it repeated half of the at-bat, this break will properly skip those\n",
    "                                         # see gid_2016_05_20_kcamlb_chamlb_1.xml\n",
    "\n",
    "                        pitch_num_counter += 1\n",
    "                        pitch_data_dict['ab_id'].append(ab_id)\n",
    "                        pitch_data_dict['outs'].append(num_outs)\n",
    "                        pitch_data_dict['b_score'].append(away_team_runs if top else home_team_runs)\n",
    "                        pitch_data_dict['on_1b'].append(p.has_attr('on_1b'))\n",
    "                        pitch_data_dict['on_2b'].append(p.has_attr('on_2b'))\n",
    "                        pitch_data_dict['on_3b'].append(p.has_attr('on_3b'))\n",
    "                        pitch_data_dict['pitch_num'].append(pitch_num_counter)\n",
    "                        pitch_data_dict['b_count'].append(count_balls)\n",
    "                        pitch_data_dict['s_count'].append(count_strikes)\n",
    "\n",
    "\n",
    "                        for ele in keys_to_grab_floats:\n",
    "                            try_ap(pitch_data_dict[ele], p, ele, float)\n",
    "\n",
    "                        for ele in keys_to_grab_str:\n",
    "                            try_ap(pitch_data_dict[ele], p, ele)\n",
    "\n",
    "                        if p['type'] == 'B' and not p['des'] == 'Hit By Pitch':\n",
    "                            count_balls += 1\n",
    "                        if p['type'] == 'S' and (count_strikes < 2):# or \n",
    "                                                 #p['code'] in ['S', 'C', 'T', 'L', 'W', 'M', 'Q']):\n",
    "                            count_strikes += 1\n",
    "\n",
    "                    # end of AB\n",
    "                    ab_id += 1\n",
    "                    assert num_outs >= int(ab['o'])-1\n",
    "                    num_outs = int(ab['o'])\n",
    "                    assert away_team_runs == int(ab['away_team_runs'])\n",
    "                    assert home_team_runs == int(ab['home_team_runs'])\n",
    "                    \n",
    "                    # these are commented out because the MLB xml files are often wrong\n",
    "                    # (about one ab per few games)\n",
    "                    #assert count_balls == int(ab['b'])\n",
    "                    #assert count_strikes == int(ab['s'])\n",
    "\n",
    "\n",
    "                # end of half-inning\n",
    "                #if (inning_num < num_innings or top): #walkoffs break it otherwise\n",
    "                #    if game_ind[0] == 'F' and inning_num == num_innings: # rain-shortened game\n",
    "                #        shortened_inds.append(game_ind)\n",
    "                #        continue                    \n",
    "                #    assert num_outs == 3 \n",
    "            # end of inning\n",
    "            \n",
    "                \n",
    "        # end of game\n",
    "        game_data_dict['away_final_score'].append(int(ab['away_team_runs']))\n",
    "        game_data_dict['home_final_score'].append(int(ab['home_team_runs']))\n",
    "        g_id += 1\n",
    "\n",
    "pitches_df = pd.DataFrame(pitch_data_dict)\n",
    "pitches_df.to_csv('pitches.csv', index=False)\n",
    "ab_df = pd.DataFrame(ab_data_dict)\n",
    "ab_df.to_csv('atbats.csv', index=False)\n",
    "game_df = pd.DataFrame(game_data_dict)\n",
    "game_df.to_csv('games.csv', index=False)"
   ]
  },
  {
   "cell_type": "markdown",
   "metadata": {},
   "source": [
    "# Code definitions:\n",
    "\n",
    "B - Ball\n",
    "\n",
    "\\*B - Ball in dirt\n",
    "\n",
    "S - Swinging Strike\n",
    "\n",
    "C - Called Strike\n",
    "\n",
    "F - Foul\n",
    "\n",
    "T - Foul Tip\n",
    "\n",
    "L - Foul Bunt\n",
    "\n",
    "I - Intentional Ball\n",
    "\n",
    "W - Swinging Strike (Blocked)\n",
    "\n",
    "M - Missed Bunt\n",
    "\n",
    "P - Pitchout\n",
    "\n",
    "Q - Swinging pitchout\n",
    "\n",
    "R - Foul pitchout\n",
    "\n",
    "## Codes the can only occur on last pitch of ab\n",
    "\n",
    "X - In play, out(s)\n",
    "\n",
    "D - In play, no out\n",
    "\n",
    "E - In play, runs"
   ]
  },
  {
   "cell_type": "code",
   "execution_count": null,
   "metadata": {},
   "outputs": [],
   "source": [
    "# Validation\n",
    "invalid_outs = (pitches_df['outs'] > 2).sum()\n",
    "if invalid_outs > 0:\n",
    "    print('Warning: invalid number of outs for some pitches')"
   ]
  },
  {
   "cell_type": "code",
   "execution_count": null,
   "metadata": {
    "collapsed": true
   },
   "outputs": [],
   "source": []
  }
 ],
 "metadata": {
  "kernelspec": {
   "display_name": "Python [default]",
   "language": "python",
   "name": "python3"
  },
  "language_info": {
   "codemirror_mode": {
    "name": "ipython",
    "version": 3
   },
   "file_extension": ".py",
   "mimetype": "text/x-python",
   "name": "python",
   "nbconvert_exporter": "python",
   "pygments_lexer": "ipython3",
   "version": "3.5.3"
  }
 },
 "nbformat": 4,
 "nbformat_minor": 2
}
